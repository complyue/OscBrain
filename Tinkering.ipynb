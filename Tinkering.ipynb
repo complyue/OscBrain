{
 "cells": [
  {
   "cell_type": "code",
   "execution_count": null,
   "id": "cde271ce",
   "metadata": {},
   "outputs": [],
   "source": [
    "import numpy as np\n",
    "import pandas as pd\n",
    "\n",
    "from numba import njit\n"
   ]
  },
  {
   "cell_type": "code",
   "execution_count": null,
   "id": "0ebbcf81",
   "metadata": {},
   "outputs": [],
   "source": [
    "from oscb import *\n",
    "\n",
    "# customize Bokeh plotting in the Jupyter Notebook environment\n",
    "setup_notebook()"
   ]
  },
  {
   "cell_type": "code",
   "execution_count": null,
   "id": "af39028d",
   "metadata": {},
   "outputs": [],
   "source": []
  },
  {
   "cell_type": "code",
   "execution_count": null,
   "id": "154b7a24",
   "metadata": {},
   "outputs": [],
   "source": [
    "# use NLTK to get corpus data\n",
    "\n",
    "import nltk\n",
    "\n",
    "nltk.download('brown')\n",
    "\n",
    "from nltk.corpus import brown\n"
   ]
  },
  {
   "cell_type": "code",
   "execution_count": null,
   "id": "d735de49",
   "metadata": {},
   "outputs": [],
   "source": []
  },
  {
   "cell_type": "code",
   "execution_count": null,
   "id": "e9500815",
   "metadata": {},
   "outputs": [],
   "source": [
    "# Seed the PRNG\n",
    "random_seed(12345)"
   ]
  },
  {
   "cell_type": "code",
   "execution_count": null,
   "id": "80c4e216",
   "metadata": {},
   "outputs": [],
   "source": []
  },
  {
   "cell_type": "code",
   "execution_count": null,
   "id": "fbf084e1",
   "metadata": {},
   "outputs": [],
   "source": [
    "# create an lnet, it initially has no synaptic connection at all\n",
    "# with each letter having 10 columns, 5x that number of total columns,\n",
    "# and 100 cells per column, there are 130K neurons total.\n",
    "#\n",
    "# if all neurons are fully connected, there'll be 16.9B synapses/parameters.\n",
    "#\n",
    "# a LetterNet will hard-cap the number of synapses, 1M by default,\n",
    "# it'll drop weakest synapses out, once the total number reaches 1M, a\n",
    "# LOAD_FACTOR=0.8 configues that each compaction (synapse dropout) should\n",
    "# retain 0.8M synapses.\n",
    "#\n",
    "lnet = LetterNet(\n",
    "    MAX_SYNAPSES=1_000_000,  # max number of synapses, one million by default\n",
    "    N_COLS_PER_LETTER=10,  # distributedness of letter SDR\n",
    "    SPARSE_FACTOR=5,  # sparseness of letter SDR\n",
    "    N_CELLS_PER_COL=100,  # per mini-column capacity\n",
    ")"
   ]
  },
  {
   "cell_type": "code",
   "execution_count": null,
   "id": "1f7dff12",
   "metadata": {},
   "outputs": [],
   "source": []
  },
  {
   "cell_type": "code",
   "execution_count": null,
   "id": "9e411a68",
   "metadata": {},
   "outputs": [],
   "source": [
    "# make a unit synaptic connection, from a former letter, to the immediate letter following it\n",
    "lnet.learn_words(brown.words(\n",
    "# lnet.learn_words_as_sequence(brown.words(\n",
    "    # select part of the corpus if desirable, or\n",
    "    # comment following line out and the full corpus is used\n",
    "#     categories=[ 'news', 'reviews', ],\n",
    "))\n",
    "\n",
    "# note: `lnet.learn_words( ... )` will work similarly,\n",
    "# it just doesn't connect the last letter of the former word,\n",
    "# to first letter of the following word."
   ]
  },
  {
   "cell_type": "code",
   "execution_count": null,
   "id": "67effbaa",
   "metadata": {},
   "outputs": [],
   "source": []
  },
  {
   "cell_type": "code",
   "execution_count": null,
   "id": "b356ea64",
   "metadata": {},
   "outputs": [],
   "source": [
    "# get a DataFrame about all excitatory synapses so far\n",
    "excit_df = lnet.excitatory_synapses()\n",
    "excit_df"
   ]
  },
  {
   "cell_type": "code",
   "execution_count": null,
   "id": "385c4d2d",
   "metadata": {},
   "outputs": [],
   "source": [
    "# statistics of individual synapses\n",
    "excit_df.efficacy.describe()"
   ]
  },
  {
   "cell_type": "code",
   "execution_count": null,
   "id": "c9ab23db",
   "metadata": {
    "scrolled": true
   },
   "outputs": [],
   "source": [
    "# statistics of all incoming synapses per individual postsynaptic neurons\n",
    "excit_df.groupby(['to_column', 'to_cell'])['efficacy'].sum().describe()"
   ]
  },
  {
   "cell_type": "code",
   "execution_count": null,
   "id": "34ca8a32",
   "metadata": {},
   "outputs": [],
   "source": [
    "self_excit_df = excit_df[ (excit_df.from_column==excit_df.to_column) & (excit_df.from_cell == excit_df.to_cell) ]\n",
    "self_excit_df"
   ]
  },
  {
   "cell_type": "code",
   "execution_count": null,
   "id": "59e62e22",
   "metadata": {},
   "outputs": [],
   "source": []
  },
  {
   "cell_type": "code",
   "execution_count": null,
   "id": "91227821",
   "metadata": {},
   "outputs": [],
   "source": [
    "# create 2M inhibitory synapses randomly\n",
    "# note: inhibitory synapses is also capped, though separately,\n",
    "#       with the same MAX_SYNAPSES (defaults to 1M) number,\n",
    "#       and compacted according to the same LOAD_FACTOR (defaults to 0.8)\n",
    "lnet.create_inhibitory_links_randomly( 2_000_000 )\n",
    "\n",
    "# get a DataFrame about all inhibitory synapses so far\n",
    "inhib_df = lnet.excitatory_synapses()\n",
    "inhib_df"
   ]
  },
  {
   "cell_type": "code",
   "execution_count": null,
   "id": "eba62e4a",
   "metadata": {},
   "outputs": [],
   "source": []
  },
  {
   "cell_type": "markdown",
   "id": "13f53f2e",
   "metadata": {},
   "source": [
    "Above is sorta time costing, to only tinker with simulation parameters\n",
    "(i.e. without changing the network connections),\n",
    "run all cells below, which is fast, and sufficient."
   ]
  },
  {
   "cell_type": "code",
   "execution_count": null,
   "id": "9793dd73",
   "metadata": {},
   "outputs": [],
   "source": []
  },
  {
   "cell_type": "code",
   "execution_count": null,
   "id": "7a357082",
   "metadata": {},
   "outputs": [],
   "source": [
    "# create a fresh new lsim, it initially have all neurons rest at the specified voltage,\n",
    "# and can later carry out simulations batch after batch.\n",
    "#\n",
    "# it maintains a Bokeh figure which can be shown in any notebook cell, which can\n",
    "# be updated per later batches of simulation\n",
    "#\n",
    "lsim = LetterNetSim(\n",
    "    lnet,\n",
    "\n",
    "    # global scaling factor, to accommodate a unit synaptic efficacy value of 1.0\n",
    "    # roughly this specifies that:\n",
    "    #   how many presynaptic spikes is enough to trigger a postsynaptic spike,\n",
    "    #   when each synapse has a unit efficacy value of 1.0\n",
    "    SYNAP_FACTOR=14,\n",
    "\n",
    "    # reset voltage, equal to VOLT_REST, or lower to enable refractory period\n",
    "    VOLT_RESET=-0.1,\n",
    "    # membrane time constant\n",
    "    τ_m=10,\n",
    "\n",
    "    # fire plot params\n",
    "    plot_width=800,\n",
    "    plot_height=600,\n",
    "    plot_n_steps=50,\n",
    "    fire_dots_glyph=\"square\",\n",
    "    fire_dots_alpha=0.01,\n",
    "    fire_dots_size=3,\n",
    "    fire_dots_color=\"#0000FF\",\n",
    ")\n",
    "# now here `lsim` is a fresh new simulation with no batch yet performed,\n",
    "# we show an empty plot here, and save a handle to update it later\n",
    "figh = show(lsim.fig, notebook_handle=True)"
   ]
  },
  {
   "cell_type": "code",
   "execution_count": null,
   "id": "e4c10afe",
   "metadata": {},
   "outputs": [],
   "source": []
  },
  {
   "cell_type": "code",
   "execution_count": null,
   "id": "91672831",
   "metadata": {},
   "outputs": [],
   "source": [
    "lsim.simulate(\n",
    "    10, # n steps\n",
    "\n",
    "    'xxx',  # a single word or list of words to prompt\n",
    "    prompt_blur=0.8,  # reduce voltage of other cells than the prompted letter\n",
    ")\n",
    "push_notebook(handle=figh)  # Update the plot"
   ]
  },
  {
   "cell_type": "code",
   "execution_count": null,
   "id": "b785312d",
   "metadata": {},
   "outputs": [],
   "source": []
  },
  {
   "cell_type": "code",
   "execution_count": null,
   "id": "d038ff87",
   "metadata": {},
   "outputs": [],
   "source": [
    "# one more batch with some different prompt\n",
    "lsim.simulate(\n",
    "    20, # n steps\n",
    "\n",
    "    'jump',  # a single word or list of words to prompt\n",
    "    prompt_blur=0.7,  # reduce voltage of other cells than the prompted letter\n",
    ")\n",
    "push_notebook(handle=figh)  # Update the plot"
   ]
  },
  {
   "cell_type": "code",
   "execution_count": null,
   "id": "07b97240",
   "metadata": {},
   "outputs": [],
   "source": []
  },
  {
   "cell_type": "code",
   "execution_count": null,
   "id": "3dac9e8b",
   "metadata": {},
   "outputs": [],
   "source": [
    "# another batch but with no prompt, to see how current dynamics drives the network forward\n",
    "# scroll back to see the spike plot updated\n",
    "lsim.simulate(\n",
    "    20, # n steps\n",
    "    \n",
    "    '', # no prompt\n",
    ")\n",
    "push_notebook(handle=figh)  # Update the plot"
   ]
  },
  {
   "cell_type": "code",
   "execution_count": null,
   "id": "badf7a82",
   "metadata": {},
   "outputs": [],
   "source": []
  },
  {
   "cell_type": "code",
   "execution_count": null,
   "id": "f1f1dc06",
   "metadata": {},
   "outputs": [],
   "source": []
  },
  {
   "cell_type": "code",
   "execution_count": null,
   "id": "4cc71b20",
   "metadata": {},
   "outputs": [],
   "source": []
  },
  {
   "cell_type": "code",
   "execution_count": null,
   "id": "c4734fc8",
   "metadata": {},
   "outputs": [],
   "source": []
  },
  {
   "cell_type": "code",
   "execution_count": null,
   "id": "35212080",
   "metadata": {},
   "outputs": [],
   "source": []
  },
  {
   "cell_type": "code",
   "execution_count": null,
   "id": "ac86e9f4",
   "metadata": {},
   "outputs": [],
   "source": []
  },
  {
   "cell_type": "code",
   "execution_count": null,
   "id": "77f27095",
   "metadata": {},
   "outputs": [],
   "source": []
  },
  {
   "cell_type": "code",
   "execution_count": null,
   "id": "1a4c6368",
   "metadata": {},
   "outputs": [],
   "source": []
  },
  {
   "cell_type": "code",
   "execution_count": null,
   "id": "081fe0bb",
   "metadata": {},
   "outputs": [],
   "source": []
  },
  {
   "cell_type": "code",
   "execution_count": null,
   "id": "ccb0f622",
   "metadata": {},
   "outputs": [],
   "source": []
  },
  {
   "cell_type": "code",
   "execution_count": null,
   "id": "7e9a139b",
   "metadata": {},
   "outputs": [],
   "source": []
  },
  {
   "cell_type": "code",
   "execution_count": null,
   "id": "a913fdce",
   "metadata": {},
   "outputs": [],
   "source": []
  },
  {
   "cell_type": "code",
   "execution_count": null,
   "id": "d1f9147a",
   "metadata": {},
   "outputs": [],
   "source": []
  },
  {
   "cell_type": "code",
   "execution_count": null,
   "id": "9ec4b1fb",
   "metadata": {},
   "outputs": [],
   "source": []
  },
  {
   "cell_type": "code",
   "execution_count": null,
   "id": "e1b6e308",
   "metadata": {},
   "outputs": [],
   "source": []
  },
  {
   "cell_type": "code",
   "execution_count": null,
   "id": "1124c846",
   "metadata": {},
   "outputs": [],
   "source": []
  }
 ],
 "metadata": {
  "kernelspec": {
   "display_name": "oscb",
   "language": "python",
   "name": "oscb"
  },
  "language_info": {
   "codemirror_mode": {
    "name": "ipython",
    "version": 3
   },
   "file_extension": ".py",
   "mimetype": "text/x-python",
   "name": "python",
   "nbconvert_exporter": "python",
   "pygments_lexer": "ipython3",
   "version": "3.10.10"
  }
 },
 "nbformat": 4,
 "nbformat_minor": 5
}
