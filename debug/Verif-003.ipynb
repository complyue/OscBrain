{
 "cells": [
  {
   "cell_type": "code",
   "execution_count": null,
   "id": "eaef7e0b",
   "metadata": {},
   "outputs": [],
   "source": [
    "from nbpypath import *"
   ]
  },
  {
   "cell_type": "code",
   "execution_count": null,
   "id": "a2386f3a",
   "metadata": {},
   "outputs": [],
   "source": []
  },
  {
   "cell_type": "code",
   "execution_count": null,
   "id": "420a5992",
   "metadata": {},
   "outputs": [],
   "source": [
    "import numpy as np\n",
    "import pandas as pd\n",
    "\n",
    "from numba import njit\n"
   ]
  },
  {
   "cell_type": "code",
   "execution_count": null,
   "id": "3d640f70",
   "metadata": {},
   "outputs": [],
   "source": [
    "from oscb import *\n",
    "\n",
    "# customize Bokeh plotting in the Jupyter Notebook environment\n",
    "setup_notebook()"
   ]
  },
  {
   "cell_type": "code",
   "execution_count": null,
   "id": "9a2d78a5",
   "metadata": {},
   "outputs": [],
   "source": []
  },
  {
   "cell_type": "code",
   "execution_count": null,
   "id": "762f9dc9",
   "metadata": {},
   "outputs": [],
   "source": [
    "# Seed the PRNG\n",
    "random_seed(12345)"
   ]
  },
  {
   "cell_type": "code",
   "execution_count": null,
   "id": "1552686e",
   "metadata": {},
   "outputs": [],
   "source": []
  },
  {
   "cell_type": "code",
   "execution_count": null,
   "id": "65373831",
   "metadata": {},
   "outputs": [],
   "source": [
    "lnet = LetterNet(\n",
    "    MAX_SYNAPSES=1_000_000,  # max number of synapses, one million by default\n",
    "    N_COLS_PER_LETTER=10,  # distributedness of letter SDR\n",
    "    SPARSE_FACTOR=5,  # sparseness of letter SDR\n",
    "    N_CELLS_PER_COL=100,  # per mini-column capacity\n",
    ")"
   ]
  },
  {
   "cell_type": "code",
   "execution_count": null,
   "id": "a0fb6494",
   "metadata": {},
   "outputs": [],
   "source": []
  },
  {
   "cell_type": "code",
   "execution_count": null,
   "id": "27d873bd",
   "metadata": {},
   "outputs": [],
   "source": [
    "%%time\n",
    "\n",
    "lnet.learn_words_as_sequence(\n",
    "    [], # no input data to see JIT time cost\n",
    "    sp_width=(1, 1),  # width of spike train: [n_columns, n_cells]\n",
    "    sp_thick=1,  # thickness of spike train\n",
    ")\n"
   ]
  },
  {
   "cell_type": "code",
   "execution_count": null,
   "id": "e5b98ee3",
   "metadata": {},
   "outputs": [],
   "source": [
    "%%time\n",
    "\n",
    "lnet.learn_words_as_sequence(\n",
    "    '''\n",
    "the quick brown fox jumps over the old lazy dog\n",
    "the quick red   fox jumps over the old lazy dog\n",
    "''',\n",
    "    sp_width=(3, 20),  # width of spike train: [n_columns, n_cells]\n",
    "    sp_thick=60,  # thickness of spike train\n",
    "    \n",
    "    link_back=True,  # create backward synapses too\n",
    ")\n"
   ]
  },
  {
   "cell_type": "code",
   "execution_count": null,
   "id": "c3301e27",
   "metadata": {},
   "outputs": [],
   "source": [
    "# get a DataFrame about all excitatory synapses so far\n",
    "excit_df = lnet.excitatory_synapses()\n",
    "excit_df"
   ]
  },
  {
   "cell_type": "code",
   "execution_count": null,
   "id": "e7d2919f",
   "metadata": {},
   "outputs": [],
   "source": []
  },
  {
   "cell_type": "code",
   "execution_count": null,
   "id": "b3b23838",
   "metadata": {},
   "outputs": [],
   "source": [
    "lsim = LetterNetSim(\n",
    "    lnet,\n",
    "\n",
    "    # global scaling factor, to accommodate a unit synaptic efficacy value of 1.0\n",
    "    # roughly this specifies that:\n",
    "    #   how many presynaptic spikes is enough to trigger a postsynaptic spike,\n",
    "    #   when each synapse has a unit efficacy value of 1.0\n",
    "    SYNAP_FACTOR=30,\n",
    "\n",
    "    # reset voltage, equal to VOLT_REST, or lower to enable refractory period\n",
    "    VOLT_RESET=-0.1,\n",
    "    # membrane time constant\n",
    "    τ_m=10,\n",
    "\n",
    "    # fire plot params\n",
    "    plot_width=800,\n",
    "    plot_height=600,\n",
    "    plot_n_steps=60,\n",
    "    fire_dots_glyph=\"square\",\n",
    "    fire_dots_alpha=0.01,\n",
    "    fire_dots_size=3,\n",
    "    fire_dots_color=\"#0000FF\",\n",
    ")\n",
    "\n",
    "lsim.simulate(\n",
    "    50, # n steps\n",
    "\n",
    "    '''\n",
    "quick\n",
    "''',\n",
    "    prompt_blur=1.0,  # don NOT suppress other signals\n",
    ")\n",
    "\n",
    "# ref the learnt seq:\n",
    "#   the quick brown fox jumps over the old lazy dog\n",
    "show(lsim.fig)"
   ]
  },
  {
   "cell_type": "code",
   "execution_count": null,
   "id": "300599fa",
   "metadata": {},
   "outputs": [],
   "source": []
  },
  {
   "cell_type": "code",
   "execution_count": null,
   "id": "38aa9f4f",
   "metadata": {},
   "outputs": [],
   "source": []
  },
  {
   "cell_type": "code",
   "execution_count": null,
   "id": "84556054",
   "metadata": {},
   "outputs": [],
   "source": [
    "# create 2M inhibitory synapses randomly\n",
    "lnet.create_inhibitory_links_randomly( 2_000_000 )\n",
    "\n",
    "# get a DataFrame about all inhibitory synapses so far\n",
    "inhib_df = lnet.inhibitory_synapses()\n",
    "inhib_df"
   ]
  },
  {
   "cell_type": "code",
   "execution_count": null,
   "id": "6e8c1f58",
   "metadata": {},
   "outputs": [],
   "source": []
  },
  {
   "cell_type": "code",
   "execution_count": null,
   "id": "eef65230",
   "metadata": {},
   "outputs": [],
   "source": [
    "# create 2M excitatory synapses randomly\n",
    "lnet.create_excitatory_links_randomly( 2_000_000 )\n",
    "\n",
    "# get a DataFrame about all excitatory synapses so far\n",
    "excit_df = lnet.excitatory_synapses()\n",
    "excit_df"
   ]
  },
  {
   "cell_type": "code",
   "execution_count": null,
   "id": "13861e8d",
   "metadata": {},
   "outputs": [],
   "source": []
  },
  {
   "cell_type": "code",
   "execution_count": null,
   "id": "26a1a855",
   "metadata": {},
   "outputs": [],
   "source": []
  },
  {
   "cell_type": "code",
   "execution_count": null,
   "id": "f57a4db1",
   "metadata": {},
   "outputs": [],
   "source": [
    "# Simulate with those random links created\n",
    "lsim = LetterNetSim(\n",
    "    lnet,\n",
    "\n",
    "    # global scaling factor, to accommodate a unit synaptic efficacy value of 1.0\n",
    "    # roughly this specifies that:\n",
    "    #   how many presynaptic spikes is enough to trigger a postsynaptic spike,\n",
    "    #   when each synapse has a unit efficacy value of 1.0\n",
    "    SYNAP_FACTOR=30,\n",
    "\n",
    "    # reset voltage, equal to VOLT_REST, or lower to enable refractory period\n",
    "    VOLT_RESET=-0.1,\n",
    "    # membrane time constant\n",
    "    τ_m=10,\n",
    "\n",
    "    # fire plot params\n",
    "    plot_width=800,\n",
    "    plot_height=600,\n",
    "    plot_n_steps=60,\n",
    "    fire_dots_glyph=\"square\",\n",
    "    fire_dots_alpha=0.01,\n",
    "    fire_dots_size=3,\n",
    "    fire_dots_color=\"#0000FF\",\n",
    ")\n",
    "\n",
    "lsim.simulate(\n",
    "    50, # n steps\n",
    "\n",
    "    '''\n",
    "quick\n",
    "''',\n",
    "    prompt_blur=1.0,  # don NOT suppress other signals\n",
    ")\n",
    "\n",
    "# ref the learnt seq:\n",
    "#   the quick brown fox jumps over the old lazy dog\n",
    "show(lsim.fig)"
   ]
  },
  {
   "cell_type": "code",
   "execution_count": null,
   "id": "a35c2c74",
   "metadata": {},
   "outputs": [],
   "source": []
  },
  {
   "cell_type": "code",
   "execution_count": null,
   "id": "d1a53823",
   "metadata": {},
   "outputs": [],
   "source": []
  },
  {
   "cell_type": "code",
   "execution_count": null,
   "id": "04290db1",
   "metadata": {},
   "outputs": [],
   "source": []
  },
  {
   "cell_type": "code",
   "execution_count": null,
   "id": "08b79475",
   "metadata": {},
   "outputs": [],
   "source": []
  },
  {
   "cell_type": "code",
   "execution_count": null,
   "id": "b430eeef",
   "metadata": {},
   "outputs": [],
   "source": []
  },
  {
   "cell_type": "code",
   "execution_count": null,
   "id": "cf45e572",
   "metadata": {},
   "outputs": [],
   "source": []
  }
 ],
 "metadata": {
  "kernelspec": {
   "display_name": "oscb",
   "language": "python",
   "name": "oscb"
  },
  "language_info": {
   "codemirror_mode": {
    "name": "ipython",
    "version": 3
   },
   "file_extension": ".py",
   "mimetype": "text/x-python",
   "name": "python",
   "nbconvert_exporter": "python",
   "pygments_lexer": "ipython3",
   "version": "3.10.10"
  }
 },
 "nbformat": 4,
 "nbformat_minor": 5
}
