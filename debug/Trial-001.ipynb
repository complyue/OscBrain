{
 "cells": [
  {
   "cell_type": "code",
   "execution_count": null,
   "id": "eaef7e0b",
   "metadata": {},
   "outputs": [],
   "source": [
    "from nbpypath import *"
   ]
  },
  {
   "cell_type": "code",
   "execution_count": null,
   "id": "a2386f3a",
   "metadata": {},
   "outputs": [],
   "source": []
  },
  {
   "cell_type": "code",
   "execution_count": null,
   "id": "420a5992",
   "metadata": {},
   "outputs": [],
   "source": [
    "import numpy as np\n",
    "import pandas as pd\n",
    "\n",
    "from numba import njit\n"
   ]
  },
  {
   "cell_type": "code",
   "execution_count": null,
   "id": "3d640f70",
   "metadata": {},
   "outputs": [],
   "source": [
    "from oscb import *\n",
    "\n",
    "# customize Bokeh plotting in the Jupyter Notebook environment\n",
    "setup_notebook()"
   ]
  },
  {
   "cell_type": "code",
   "execution_count": null,
   "id": "9a2d78a5",
   "metadata": {},
   "outputs": [],
   "source": []
  },
  {
   "cell_type": "code",
   "execution_count": null,
   "id": "6ce9e164",
   "metadata": {},
   "outputs": [],
   "source": [
    "# use NLTK to get corpus data\n",
    "\n",
    "import nltk\n",
    "\n",
    "nltk.download('brown')\n",
    "\n",
    "from nltk.corpus import brown\n"
   ]
  },
  {
   "cell_type": "code",
   "execution_count": null,
   "id": "61cd17e4",
   "metadata": {},
   "outputs": [],
   "source": []
  },
  {
   "cell_type": "code",
   "execution_count": null,
   "id": "762f9dc9",
   "metadata": {},
   "outputs": [],
   "source": [
    "# Seed the PRNG\n",
    "random_seed(12345)"
   ]
  },
  {
   "cell_type": "code",
   "execution_count": null,
   "id": "1552686e",
   "metadata": {},
   "outputs": [],
   "source": []
  },
  {
   "cell_type": "code",
   "execution_count": null,
   "id": "6cec1e57",
   "metadata": {},
   "outputs": [],
   "source": []
  },
  {
   "cell_type": "code",
   "execution_count": null,
   "id": "65373831",
   "metadata": {},
   "outputs": [],
   "source": [
    "# create an lnet, it initially has no synaptic connection at all\n",
    "# with each letter having 10 columns, 5x that number of total columns,\n",
    "# and 100 cells per column, there are 130K neurons total.\n",
    "#\n",
    "# if all neurons are fully connected, there'll be 16.9B synapses/parameters.\n",
    "#\n",
    "# this LetterNet will hard-cap the number of synapses at 10M,\n",
    "# it'll drop weakest synapses out, once the total number reaches 10M, a\n",
    "# LOAD_FACTOR=0.8 configues that each compaction (synapse dropout) should\n",
    "# retain 8M synapses.\n",
    "#\n",
    "lnet = LetterNet(\n",
    "    MAX_SYNAPSES=10_000_000,  # max number of synapses, one million by default\n",
    "    N_COLS_PER_LETTER=10,  # distributedness of letter SDR\n",
    "    SPARSE_FACTOR=5,  # sparseness of letter SDR\n",
    "    N_CELLS_PER_COL=100,  # per mini-column capacity\n",
    ")"
   ]
  },
  {
   "cell_type": "code",
   "execution_count": null,
   "id": "80086a69",
   "metadata": {},
   "outputs": [],
   "source": []
  },
  {
   "cell_type": "code",
   "execution_count": null,
   "id": "27d873bd",
   "metadata": {},
   "outputs": [],
   "source": [
    "%%time\n",
    "\n",
    "lnet.learn_words_as_sequence(\n",
    "    [], # no input data to see JIT time cost\n",
    "    sp_width=(1, 1),  # width of spike train: [n_columns, n_cells]\n",
    "    sp_thick=1,  # thickness of spike train\n",
    ")\n"
   ]
  },
  {
   "cell_type": "code",
   "execution_count": null,
   "id": "e5b98ee3",
   "metadata": {},
   "outputs": [],
   "source": [
    "%%time\n",
    "\n",
    "lnet.learn_words_as_sequence(\n",
    "    brown.words(\n",
    "        # select part of the corpus if desirable, or\n",
    "        # comment following line out and the full corpus is used\n",
    "        categories=[ \n",
    "#             'news', \n",
    "            'reviews', \n",
    "        ],\n",
    "    ),\n",
    "    sp_width=(3, 20),  # width of spike train: [n_columns, n_cells]\n",
    "    sp_thick=60,  # thickness of spike train\n",
    ")\n"
   ]
  },
  {
   "cell_type": "code",
   "execution_count": null,
   "id": "98045b4b",
   "metadata": {},
   "outputs": [],
   "source": []
  },
  {
   "cell_type": "code",
   "execution_count": null,
   "id": "b0201cfa",
   "metadata": {},
   "outputs": [],
   "source": [
    "# get a DataFrame about all excitatory synapses so far\n",
    "excit_df = lnet.excitatory_synapses()\n",
    "excit_df"
   ]
  },
  {
   "cell_type": "code",
   "execution_count": null,
   "id": "196187e7",
   "metadata": {},
   "outputs": [],
   "source": [
    "# statistics of individual synapses\n",
    "excit_df.efficacy.describe()"
   ]
  },
  {
   "cell_type": "code",
   "execution_count": null,
   "id": "00453084",
   "metadata": {},
   "outputs": [],
   "source": [
    "# statistics of all incoming synapses per individual postsynaptic neurons\n",
    "excit_df.groupby(['to_column', 'to_cell'])['efficacy'].sum().describe()"
   ]
  },
  {
   "cell_type": "code",
   "execution_count": null,
   "id": "db1d9815",
   "metadata": {},
   "outputs": [],
   "source": []
  },
  {
   "cell_type": "code",
   "execution_count": null,
   "id": "b3b23838",
   "metadata": {},
   "outputs": [],
   "source": []
  },
  {
   "cell_type": "code",
   "execution_count": null,
   "id": "9cd5cc55",
   "metadata": {},
   "outputs": [],
   "source": [
    "# create 2M inhibitory synapses randomly\n",
    "# note: inhibitory synapses is also capped, though separately,\n",
    "#       with the same MAX_SYNAPSES (defaults to 1M) number,\n",
    "#       and compacted according to the same LOAD_FACTOR (defaults to 0.8)\n",
    "lnet.create_inhibitory_links_randomly( 2_000_000 )\n",
    "\n",
    "# get a DataFrame about all inhibitory synapses so far\n",
    "inhib_df = lnet.excitatory_synapses()\n",
    "inhib_df"
   ]
  },
  {
   "cell_type": "code",
   "execution_count": null,
   "id": "0d1d0de5",
   "metadata": {},
   "outputs": [],
   "source": [
    "# statistics of individual synapses\n",
    "inhib_df.efficacy.describe()"
   ]
  },
  {
   "cell_type": "code",
   "execution_count": null,
   "id": "ed2dac78",
   "metadata": {},
   "outputs": [],
   "source": []
  },
  {
   "cell_type": "code",
   "execution_count": null,
   "id": "7fcefc28",
   "metadata": {},
   "outputs": [],
   "source": []
  },
  {
   "cell_type": "code",
   "execution_count": null,
   "id": "c04ea3e3",
   "metadata": {},
   "outputs": [],
   "source": [
    "lsim = LetterNetSim(\n",
    "    lnet,\n",
    "\n",
    "    # global scaling factor, to accommodate a unit synaptic efficacy value of 1.0\n",
    "    # roughly this specifies that:\n",
    "    #   how many presynaptic spikes is enough to trigger a postsynaptic spike,\n",
    "    #   when each synapse has a unit efficacy value of 1.0\n",
    "    SYNAP_FACTOR=300,\n",
    "\n",
    "    # reset voltage, equal to VOLT_REST, or lower to enable refractory period\n",
    "    VOLT_RESET=-0.1,\n",
    "    # membrane time constant\n",
    "    τ_m=10,\n",
    "\n",
    "    # fire plot params\n",
    "    plot_width=800,\n",
    "    plot_height=600,\n",
    "    plot_n_steps=80,\n",
    "    fire_dots_glyph=\"square\",\n",
    "    fire_dots_alpha=0.005,\n",
    "    fire_dots_size=3,\n",
    "    fire_dots_color=\"#0000FF\",\n",
    ")\n",
    "\n",
    "lsim.simulate(\n",
    "    60, # n steps\n",
    "\n",
    "    # a single word or list of words to prompt\n",
    "    'the fact',\n",
    "    prompt_blur=0.2,  # reduce voltage of other cells than the prompted letter\n",
    ")\n",
    "\n",
    "show(lsim.fig)"
   ]
  },
  {
   "cell_type": "code",
   "execution_count": null,
   "id": "38aa9f4f",
   "metadata": {},
   "outputs": [],
   "source": []
  },
  {
   "cell_type": "code",
   "execution_count": null,
   "id": "2594c3e0",
   "metadata": {},
   "outputs": [],
   "source": []
  },
  {
   "cell_type": "code",
   "execution_count": null,
   "id": "a9e19eed",
   "metadata": {},
   "outputs": [],
   "source": []
  },
  {
   "cell_type": "code",
   "execution_count": null,
   "id": "0e673ff8",
   "metadata": {},
   "outputs": [],
   "source": []
  },
  {
   "cell_type": "code",
   "execution_count": null,
   "id": "fd19c84a",
   "metadata": {},
   "outputs": [],
   "source": []
  },
  {
   "cell_type": "code",
   "execution_count": null,
   "id": "19e9f53c",
   "metadata": {},
   "outputs": [],
   "source": []
  },
  {
   "cell_type": "code",
   "execution_count": null,
   "id": "71c1835c",
   "metadata": {},
   "outputs": [],
   "source": []
  },
  {
   "cell_type": "code",
   "execution_count": null,
   "id": "aab2d2f1",
   "metadata": {},
   "outputs": [],
   "source": []
  },
  {
   "cell_type": "code",
   "execution_count": null,
   "id": "74558c45",
   "metadata": {},
   "outputs": [],
   "source": []
  },
  {
   "cell_type": "code",
   "execution_count": null,
   "id": "6e8cd314",
   "metadata": {},
   "outputs": [],
   "source": []
  },
  {
   "cell_type": "code",
   "execution_count": null,
   "id": "c28afc81",
   "metadata": {},
   "outputs": [],
   "source": []
  },
  {
   "cell_type": "code",
   "execution_count": null,
   "id": "1fe0b9d1",
   "metadata": {},
   "outputs": [],
   "source": []
  },
  {
   "cell_type": "code",
   "execution_count": null,
   "id": "e8229130",
   "metadata": {},
   "outputs": [],
   "source": []
  },
  {
   "cell_type": "code",
   "execution_count": null,
   "id": "12524262",
   "metadata": {},
   "outputs": [],
   "source": []
  },
  {
   "cell_type": "code",
   "execution_count": null,
   "id": "e391cca6",
   "metadata": {},
   "outputs": [],
   "source": []
  },
  {
   "cell_type": "code",
   "execution_count": null,
   "id": "84556054",
   "metadata": {},
   "outputs": [],
   "source": []
  },
  {
   "cell_type": "code",
   "execution_count": null,
   "id": "26a1a855",
   "metadata": {},
   "outputs": [],
   "source": []
  },
  {
   "cell_type": "code",
   "execution_count": null,
   "id": "f57a4db1",
   "metadata": {},
   "outputs": [],
   "source": []
  },
  {
   "cell_type": "code",
   "execution_count": null,
   "id": "a35c2c74",
   "metadata": {},
   "outputs": [],
   "source": []
  }
 ],
 "metadata": {
  "kernelspec": {
   "display_name": "oscb",
   "language": "python",
   "name": "oscb"
  },
  "language_info": {
   "codemirror_mode": {
    "name": "ipython",
    "version": 3
   },
   "file_extension": ".py",
   "mimetype": "text/x-python",
   "name": "python",
   "nbconvert_exporter": "python",
   "pygments_lexer": "ipython3",
   "version": "3.10.10"
  }
 },
 "nbformat": 4,
 "nbformat_minor": 5
}
