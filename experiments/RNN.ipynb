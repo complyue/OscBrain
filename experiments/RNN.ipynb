{
 "cells": [
  {
   "cell_type": "markdown",
   "id": "8ca5db8c",
   "metadata": {},
   "source": [
    "Source:\n",
    "  https://discourse.numenta.org/t/the-coding-of-longer-sequences-in-htm-sdrs/10597/104"
   ]
  },
  {
   "cell_type": "code",
   "execution_count": null,
   "id": "87aa908a",
   "metadata": {},
   "outputs": [],
   "source": []
  },
  {
   "cell_type": "code",
   "execution_count": 1,
   "id": "679b32be",
   "metadata": {},
   "outputs": [],
   "source": [
    "import numpy as np\n",
    "import time\n"
   ]
  },
  {
   "cell_type": "code",
   "execution_count": 2,
   "id": "714e964f",
   "metadata": {},
   "outputs": [],
   "source": [
    "\n",
    "np.random.seed(0)\n"
   ]
  },
  {
   "cell_type": "code",
   "execution_count": 3,
   "id": "717a17a9",
   "metadata": {},
   "outputs": [],
   "source": [
    "\n",
    "class Synapses:\n",
    "    def __init__(self, inputs, outputs, initial_sparsity=0.1):\n",
    "        self.weights = (np.random.sample((inputs, outputs)) < initial_sparsity).astype(\n",
    "            np.int8\n",
    "        )\n",
    "\n",
    "    def project(self, inputs, outputs, backwards=False):\n",
    "        if backwards:\n",
    "            inputs.values += self.weights[:, outputs.winners].sum(axis=1)\n",
    "        else:\n",
    "            outputs.values += self.weights[inputs.winners, :].sum(axis=0)\n",
    "\n",
    "    def hebbian_update(self, inputs, outputs, factor=1):\n",
    "        self.weights[inputs.winners[:, np.newaxis], outputs.winners] += factor\n",
    "\n",
    "\n",
    "class Activation:\n",
    "    def __init__(self, size):\n",
    "        self.values = np.zeros(size, dtype=np.float32)\n",
    "        self.boosts = np.zeros(size, dtype=np.float32)\n",
    "        self.winners = np.zeros(0, dtype=np.int64)\n",
    "\n",
    "    def one_hot(self, x):\n",
    "        self.winners = np.array([x], dtype=np.int32)\n",
    "\n",
    "    def kwta(self, k):\n",
    "        self.winners = np.argsort(self.values + self.boosts)[-k:]\n",
    "\n",
    "    def noise(self, f):\n",
    "        self.values += np.random.sample(self.values.shape) * f\n",
    "\n",
    "    def boost_update(self, decrease=1, recover=0.01):\n",
    "        self.boosts *= recover\n",
    "        self.boosts[self.winners] -= decrease\n",
    "\n",
    "    def clear(self):\n",
    "        self.values[:] = 0\n",
    "        self.winners = np.zeros(0, dtype=np.int64)\n",
    "\n",
    "\n",
    "class SequencePreddictor:\n",
    "    def __init__(self, n_state, n_input, k):\n",
    "        self.n_state = n_state\n",
    "        self.n_input = n_input\n",
    "        self.k = k\n",
    "        self.encoding_matrix = Synapses(\n",
    "            n_input, n_state, initial_sparsity=n_state / n_input\n",
    "        )\n",
    "        self.state_matrix = Synapses(n_state, n_state, initial_sparsity=0.5)\n",
    "\n",
    "        self.new_state = Activation(n_state)\n",
    "        self.previous_state = Activation(n_state)\n",
    "        self.previous_state_reconst = Activation(n_state)\n",
    "        self.input = Activation(n_input)\n",
    "        self.input_reconst = Activation(n_input)\n",
    "\n",
    "    def step(self, input_index, train=False):\n",
    "        self.previous_state, self.new_state = self.new_state, self.previous_state\n",
    "        self.new_state.clear()\n",
    "        self.state_matrix.project(\n",
    "            self.previous_state,\n",
    "            self.new_state,\n",
    "        )\n",
    "\n",
    "        if input_index is None:\n",
    "            self.input.one_hot(self.decode())\n",
    "        else:\n",
    "            self.input.one_hot(input_index)\n",
    "\n",
    "        self.encoding_matrix.project(self.input, self.new_state)\n",
    "        self.new_state.noise(2)\n",
    "        self.new_state.kwta(self.k)\n",
    "        # self.new_state.boost_update(10, 0.0001)\n",
    "\n",
    "        if train:\n",
    "            self.previous_state_reconst.clear()\n",
    "            self.input_reconst.clear()\n",
    "            self.state_matrix.project(\n",
    "                self.previous_state_reconst, self.new_state, backwards=True\n",
    "            )\n",
    "            self.encoding_matrix.project(\n",
    "                self.input_reconst, self.new_state, backwards=True\n",
    "            )\n",
    "\n",
    "            self.previous_state_reconst.kwta(self.k)\n",
    "            self.input_reconst.kwta(1)\n",
    "\n",
    "            # plus phase\n",
    "            self.state_matrix.hebbian_update(self.previous_state, self.new_state, 1)\n",
    "            self.encoding_matrix.hebbian_update(self.input, self.new_state, 1)\n",
    "\n",
    "            # minus phase\n",
    "            self.state_matrix.hebbian_update(\n",
    "                self.previous_state_reconst, self.new_state, -1\n",
    "            )\n",
    "            self.encoding_matrix.hebbian_update(self.input_reconst, self.new_state, -1)\n",
    "\n",
    "    def decode(self):\n",
    "        self.input_reconst.clear()\n",
    "        self.encoding_matrix.project(self.input_reconst, self.new_state, backwards=True)\n",
    "        self.input_reconst.kwta(1)\n",
    "        return self.input_reconst.winners[0]\n"
   ]
  },
  {
   "cell_type": "code",
   "execution_count": null,
   "id": "acd76c8b",
   "metadata": {},
   "outputs": [],
   "source": []
  },
  {
   "cell_type": "code",
   "execution_count": null,
   "id": "3e58dcca",
   "metadata": {},
   "outputs": [],
   "source": []
  },
  {
   "cell_type": "code",
   "execution_count": 4,
   "id": "b665ec0d",
   "metadata": {},
   "outputs": [],
   "source": [
    "\n",
    "input_data = \"\"\"\n",
    "The quick brown fox jumped over the lazy old dog.\n",
    "123456789\n",
    "abcdefghijk\n",
    "\"\"\" # .replace(\"\\n\", \"\")\n"
   ]
  },
  {
   "cell_type": "code",
   "execution_count": null,
   "id": "acfe551a",
   "metadata": {},
   "outputs": [],
   "source": []
  },
  {
   "cell_type": "code",
   "execution_count": 5,
   "id": "dc7fc8a7",
   "metadata": {},
   "outputs": [],
   "source": [
    "EPOCHS = 1\n",
    "\n",
    "seq_pred = SequencePreddictor(1000, 256, k=10)"
   ]
  },
  {
   "cell_type": "code",
   "execution_count": null,
   "id": "9f675d97",
   "metadata": {},
   "outputs": [],
   "source": []
  },
  {
   "cell_type": "code",
   "execution_count": 6,
   "id": "e7a5a9fb",
   "metadata": {},
   "outputs": [],
   "source": [
    "EPOCHS = 10\n",
    "\n",
    "seq_pred = SequencePreddictor(1000, 256, k=10)"
   ]
  },
  {
   "cell_type": "code",
   "execution_count": null,
   "id": "9ec7b1c0",
   "metadata": {},
   "outputs": [],
   "source": []
  },
  {
   "cell_type": "code",
   "execution_count": 7,
   "id": "a777a672",
   "metadata": {},
   "outputs": [],
   "source": [
    "EPOCHS = 10\n",
    "\n",
    "seq_pred = SequencePreddictor(20000, 128, k=7)"
   ]
  },
  {
   "cell_type": "code",
   "execution_count": null,
   "id": "32c0cb22",
   "metadata": {},
   "outputs": [],
   "source": []
  },
  {
   "cell_type": "code",
   "execution_count": 8,
   "id": "2e2b085c",
   "metadata": {},
   "outputs": [
    {
     "name": "stdout",
     "output_type": "stream",
     "text": [
      "epoch 0\n",
      "epoch 1\n",
      "epoch 2\n",
      "epoch 3\n",
      "epoch 4\n",
      "epoch 5\n",
      "epoch 6\n",
      "epoch 7\n",
      "epoch 8\n",
      "epoch 9\n"
     ]
    }
   ],
   "source": [
    "\n",
    "for i in range(EPOCHS):\n",
    "    print(\"epoch\", i)\n",
    "    for ch in input_data:\n",
    "        seq_pred.step(ord(ch), train=True)\n",
    "\n"
   ]
  },
  {
   "cell_type": "code",
   "execution_count": null,
   "id": "778002fc",
   "metadata": {},
   "outputs": [],
   "source": []
  },
  {
   "cell_type": "code",
   "execution_count": 9,
   "id": "884bc3af",
   "metadata": {},
   "outputs": [
    {
     "name": "stdout",
     "output_type": "stream",
     "text": [
      "\n",
      "The quick brown fox jumped over the lazy old dog.\n",
      "123456789\n",
      "abcdefghijk\n",
      "\n",
      "The quick brown fox jumped over the lazy old dog.\n",
      "123456789\n",
      "abcdefghijk\n",
      "\n",
      "The quick brown fox jumped over the lazy old dog.\n",
      "123456789\n",
      "abcdefghijk\n",
      "\n",
      "The quick brown fox jumped over the lazy old dog.\n",
      "123456789\n",
      "abcdefghijk\n",
      "\n",
      "The qui"
     ]
    }
   ],
   "source": [
    "\n",
    "for _ in range(300):\n",
    "    seq_pred.step(None)\n",
    "    print(chr(seq_pred.decode()), end=\"\", flush=True)\n",
    "    time.sleep(0.01)\n",
    "\n"
   ]
  },
  {
   "cell_type": "code",
   "execution_count": null,
   "id": "1e9bda2f",
   "metadata": {},
   "outputs": [],
   "source": []
  }
 ],
 "metadata": {
  "kernelspec": {
   "display_name": "oscb",
   "language": "python",
   "name": "oscb"
  },
  "language_info": {
   "codemirror_mode": {
    "name": "ipython",
    "version": 3
   },
   "file_extension": ".py",
   "mimetype": "text/x-python",
   "name": "python",
   "nbconvert_exporter": "python",
   "pygments_lexer": "ipython3",
   "version": "3.10.10"
  }
 },
 "nbformat": 4,
 "nbformat_minor": 5
}
